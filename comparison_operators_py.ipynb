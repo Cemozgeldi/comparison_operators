{
  "nbformat": 4,
  "nbformat_minor": 0,
  "metadata": {
    "colab": {
      "name": "comparison_operators.py",
      "provenance": [],
      "authorship_tag": "ABX9TyM0NBCRByeHlek8a+hem9gY",
      "include_colab_link": true
    },
    "kernelspec": {
      "name": "python3",
      "display_name": "Python 3"
    },
    "language_info": {
      "name": "python"
    }
  },
  "cells": [
    {
      "cell_type": "markdown",
      "metadata": {
        "id": "view-in-github",
        "colab_type": "text"
      },
      "source": [
        "<a href=\"https://colab.research.google.com/github/Cemozgeldi/comparison_operators/blob/main/comparison_operators_py.ipynb\" target=\"_parent\"><img src=\"https://colab.research.google.com/assets/colab-badge.svg\" alt=\"Open In Colab\"/></a>"
      ]
    },
    {
      "cell_type": "code",
      "execution_count": 4,
      "metadata": {
        "colab": {
          "base_uri": "https://localhost:8080/"
        },
        "id": "_ZavbYVbPAdz",
        "outputId": "fc57cb4e-f6a6-4856-e814-5346ba4529bd"
      },
      "outputs": [
        {
          "name": "stdout",
          "output_type": "stream",
          "text": [
            "bir rakam yaz :11\n"
          ]
        },
        {
          "output_type": "execute_result",
          "data": {
            "text/plain": [
              "int"
            ]
          },
          "metadata": {},
          "execution_count": 4
        }
      ],
      "source": [
        "type(int(input(\"bir rakam yaz :\")))"
      ]
    },
    {
      "cell_type": "code",
      "source": [
        "type(input(\"bir rakam yaz :\"))"
      ],
      "metadata": {
        "colab": {
          "base_uri": "https://localhost:8080/"
        },
        "id": "TQyrgzshQ6Id",
        "outputId": "9bb374b3-e47d-4957-835a-23cf591b75ef"
      },
      "execution_count": 3,
      "outputs": [
        {
          "name": "stdout",
          "output_type": "stream",
          "text": [
            "bir rakam yaz :11\n"
          ]
        },
        {
          "output_type": "execute_result",
          "data": {
            "text/plain": [
              "str"
            ]
          },
          "metadata": {},
          "execution_count": 3
        }
      ]
    },
    {
      "cell_type": "code",
      "source": [
        "print(f\"You entered {input('Enter Yes or No :').title().strip() == 'Yes'}\")"
      ],
      "metadata": {
        "colab": {
          "base_uri": "https://localhost:8080/"
        },
        "id": "zio1gWe6RCfV",
        "outputId": "9bc1bbbf-fb75-4cba-bad0-edd81bd409b1"
      },
      "execution_count": 5,
      "outputs": [
        {
          "output_type": "stream",
          "name": "stdout",
          "text": [
            "Enter Yes or No :yes\n",
            "You entered True\n"
          ]
        }
      ]
    },
    {
      "cell_type": "code",
      "source": [
        "convert = input(\"Enter Yes or No :\").title().strip() == \"Yes\"\n",
        "convert"
      ],
      "metadata": {
        "colab": {
          "base_uri": "https://localhost:8080/"
        },
        "id": "VN-aoXrjT6JN",
        "outputId": "4a0000f8-e478-43b2-9c75-3251da0f7606"
      },
      "execution_count": 10,
      "outputs": [
        {
          "name": "stdout",
          "output_type": "stream",
          "text": [
            "Enter Yes or No :Yes\n"
          ]
        },
        {
          "output_type": "execute_result",
          "data": {
            "text/plain": [
              "True"
            ]
          },
          "metadata": {},
          "execution_count": 10
        }
      ]
    },
    {
      "cell_type": "code",
      "source": [
        "print(f\"You entered {convert}\")"
      ],
      "metadata": {
        "colab": {
          "base_uri": "https://localhost:8080/"
        },
        "id": "s2D4gOY8UTAk",
        "outputId": "b48ca7df-f617-4edd-f800-4cfc05b3b619"
      },
      "execution_count": 12,
      "outputs": [
        {
          "output_type": "stream",
          "name": "stdout",
          "text": [
            "You entered True\n"
          ]
        }
      ]
    },
    {
      "cell_type": "code",
      "source": [
        "x = list(range(1, 11))\n",
        "x"
      ],
      "metadata": {
        "colab": {
          "base_uri": "https://localhost:8080/"
        },
        "id": "zzeKHwfhVsQ1",
        "outputId": "1aad7ed0-b83b-4ae4-80c3-8c222843ecba"
      },
      "execution_count": 13,
      "outputs": [
        {
          "output_type": "execute_result",
          "data": {
            "text/plain": [
              "[1, 2, 3, 4, 5, 6, 7, 8, 9, 10]"
            ]
          },
          "metadata": {},
          "execution_count": 13
        }
      ]
    },
    {
      "cell_type": "code",
      "source": [
        "course = 'clarusway'\n",
        "if course == 'clarusway':\n",
        "  print(\"you guaranteed the job\")\n",
        "else:\n",
        "  print(\"think about it again\")"
      ],
      "metadata": {
        "colab": {
          "base_uri": "https://localhost:8080/"
        },
        "id": "qFFRSOy2alq4",
        "outputId": "6c083d66-5365-44f1-aebe-011591461224"
      },
      "execution_count": 14,
      "outputs": [
        {
          "output_type": "stream",
          "name": "stdout",
          "text": [
            "you guaranteed the job\n"
          ]
        }
      ]
    },
    {
      "cell_type": "code",
      "source": [
        "x = int(input(\"Enter a number: \"))\n",
        "y = int(input(\"Enter an another number: \"))\n",
        "\n",
        "\n",
        "if x>y :\n",
        "  larger = x\n",
        "else:\n",
        "  larger = y\n",
        "\n",
        "print(\"The largerger number is \", larger)"
      ],
      "metadata": {
        "colab": {
          "base_uri": "https://localhost:8080/"
        },
        "id": "WIz2ld0KbNnO",
        "outputId": "d11c982c-65d4-4560-ea34-6550d8826a8e"
      },
      "execution_count": 27,
      "outputs": [
        {
          "output_type": "stream",
          "name": "stdout",
          "text": [
            "Enter a number: 123\n",
            "Enter an another number: 12\n",
            "The largerger number is  123\n"
          ]
        }
      ]
    },
    {
      "cell_type": "code",
      "source": [
        "bool_valluee = False\n",
        "if bool_valluee :\n",
        "  print(\"Yes\")\n",
        "else:\n",
        "  print(\"No\")"
      ],
      "metadata": {
        "colab": {
          "base_uri": "https://localhost:8080/"
        },
        "id": "i82cBL9Og0BT",
        "outputId": "8dfe38d0-1eaf-4499-f785-0593023b74a6"
      },
      "execution_count": 34,
      "outputs": [
        {
          "output_type": "stream",
          "name": "stdout",
          "text": [
            "No\n"
          ]
        }
      ]
    },
    {
      "cell_type": "code",
      "source": [
        "a = set('warning')\n",
        "b = set('bearing')\n",
        "print(b.difference(a))"
      ],
      "metadata": {
        "colab": {
          "base_uri": "https://localhost:8080/"
        },
        "id": "OlDuvThLhscY",
        "outputId": "a1c70c07-c916-426a-a56c-a193eb88ac40"
      },
      "execution_count": 38,
      "outputs": [
        {
          "output_type": "stream",
          "name": "stdout",
          "text": [
            "{'b', 'e'}\n"
          ]
        }
      ]
    },
    {
      "cell_type": "code",
      "source": [
        "set()"
      ],
      "metadata": {
        "colab": {
          "base_uri": "https://localhost:8080/"
        },
        "id": "iyupnGESp6R2",
        "outputId": "522a7916-8e86-4d8d-fb1d-10b52c439531"
      },
      "execution_count": 36,
      "outputs": [
        {
          "output_type": "execute_result",
          "data": {
            "text/plain": [
              "set()"
            ]
          },
          "metadata": {},
          "execution_count": 36
        }
      ]
    },
    {
      "cell_type": "code",
      "source": [
        "num1 = int(input(\"enter first number:\"))\n",
        "num2= int(input(\"enter second number:\"))\n",
        "num3 = int(input(\"enter third number:\"))\n",
        "if (num1 >= num2) and (num1 >= num3):\n",
        "  largest = num1\n",
        "elif (num2 >= num1) and (num2 >= num3):\n",
        "  largest = num2\n",
        "else :  \n",
        "  largest = num3\n",
        "\n",
        "print(\"The largest number is:\", largest)"
      ],
      "metadata": {
        "colab": {
          "base_uri": "https://localhost:8080/"
        },
        "id": "eAKa1F_PsYAz",
        "outputId": "106967ab-99ac-4603-edb5-a951b3a9ff40"
      },
      "execution_count": 45,
      "outputs": [
        {
          "output_type": "stream",
          "name": "stdout",
          "text": [
            "enter first number:2\n",
            "enter second number:3\n",
            "enter third number:4\n",
            "The largest number is: 4\n"
          ]
        }
      ]
    },
    {
      "cell_type": "code",
      "source": [
        "num1 = int(input(\"Enter first number:\"))\n",
        "if num1 > 0:\n",
        "  print(num1, \"is positive\")\n",
        "elif num1 == 0:\n",
        "   print(num1, \"is zero\")\n",
        "else:\n",
        "  print(num1, \"is negative\")    \n",
        "  "
      ],
      "metadata": {
        "colab": {
          "base_uri": "https://localhost:8080/"
        },
        "id": "oTbXAOnPs2n9",
        "outputId": "54e3df8f-8ed1-4fc5-a7de-9df8dbe97571"
      },
      "execution_count": 51,
      "outputs": [
        {
          "output_type": "stream",
          "name": "stdout",
          "text": [
            "Enter first number:0\n",
            "0 is zero\n"
          ]
        }
      ]
    },
    {
      "cell_type": "code",
      "source": [
        "audience_group = 'kid', 'teen', 'adult'\n",
        "audience = \"baby\"\n",
        "if audience in audience_group:\n",
        "  if audience == \"kid\":\n",
        "    print(\"it is free to go to cinema\")\n",
        "  elif audience == \"teen\":\n",
        "    print(\"discounted price\")\n",
        "  else: #audience == \"adult\":\n",
        "    print(\"normal price\") \n",
        "else:\n",
        "  print(\"no such audience,stay at your home!\")       "
      ],
      "metadata": {
        "colab": {
          "base_uri": "https://localhost:8080/"
        },
        "id": "QYX3eBTHu0Fv",
        "outputId": "cec39510-3372-401f-ac85-84472963d039"
      },
      "execution_count": 55,
      "outputs": [
        {
          "output_type": "stream",
          "name": "stdout",
          "text": [
            "no such audience,stay at your home!\n"
          ]
        }
      ]
    },
    {
      "cell_type": "code",
      "source": [
        "score = int(input(\"Enter your score :\"))\n",
        "if score >= 90:\n",
        "  if score >= 95:  \n",
        "    Score_letter=\"A+\"\n",
        "  else:\n",
        "    Score_letter=\"A\"\n",
        "elif score >= 80:\n",
        "  if score >= 85:\n",
        "    Score_letter = \"B+\"\n",
        "  else:\n",
        "    Score_letter = \"B\"\n",
        "else:\n",
        "  Score_letter=\"below B\"\n",
        "\n",
        "print(\"Your degree: %s\" % Score_letter)           "
      ],
      "metadata": {
        "colab": {
          "base_uri": "https://localhost:8080/"
        },
        "id": "1gST7brHwbLS",
        "outputId": "f31ea04f-0d6c-46e0-b6cf-e31ee2fba076"
      },
      "execution_count": 58,
      "outputs": [
        {
          "output_type": "stream",
          "name": "stdout",
          "text": [
            "Enter your score :95\n",
            "Your degree: A+\n"
          ]
        }
      ]
    },
    {
      "cell_type": "code",
      "source": [
        "#şimdilik bu kadar#"
      ],
      "metadata": {
        "id": "cYKvc61jxQlJ"
      },
      "execution_count": 59,
      "outputs": []
    },
    {
      "cell_type": "code",
      "source": [
        ""
      ],
      "metadata": {
        "id": "CEyP79f8xQnu"
      },
      "execution_count": null,
      "outputs": []
    },
    {
      "cell_type": "code",
      "source": [
        ""
      ],
      "metadata": {
        "id": "qG92vHujxQqS"
      },
      "execution_count": null,
      "outputs": []
    },
    {
      "cell_type": "code",
      "source": [
        ""
      ],
      "metadata": {
        "id": "Ti3cYVYWxQso"
      },
      "execution_count": null,
      "outputs": []
    },
    {
      "cell_type": "code",
      "source": [
        ""
      ],
      "metadata": {
        "id": "E5vd-Oc6xQvA"
      },
      "execution_count": null,
      "outputs": []
    },
    {
      "cell_type": "code",
      "source": [
        ""
      ],
      "metadata": {
        "id": "uol8f-55xQxW"
      },
      "execution_count": null,
      "outputs": []
    },
    {
      "cell_type": "code",
      "source": [
        ""
      ],
      "metadata": {
        "id": "CkTgcM9RxQzs"
      },
      "execution_count": null,
      "outputs": []
    },
    {
      "cell_type": "code",
      "source": [
        ""
      ],
      "metadata": {
        "id": "6HKVpq-jxQ2V"
      },
      "execution_count": null,
      "outputs": []
    },
    {
      "cell_type": "code",
      "source": [
        ""
      ],
      "metadata": {
        "id": "apNl8WnLxQ4n"
      },
      "execution_count": null,
      "outputs": []
    },
    {
      "cell_type": "code",
      "source": [
        ""
      ],
      "metadata": {
        "id": "MDKXlQF3xQ7O"
      },
      "execution_count": null,
      "outputs": []
    },
    {
      "cell_type": "code",
      "source": [
        ""
      ],
      "metadata": {
        "id": "Dp3VgRRQxQ94"
      },
      "execution_count": null,
      "outputs": []
    },
    {
      "cell_type": "code",
      "source": [
        ""
      ],
      "metadata": {
        "id": "g1FW4oR_xRAL"
      },
      "execution_count": null,
      "outputs": []
    },
    {
      "cell_type": "code",
      "source": [
        ""
      ],
      "metadata": {
        "id": "4QwVgwaAxRDE"
      },
      "execution_count": null,
      "outputs": []
    },
    {
      "cell_type": "code",
      "source": [
        ""
      ],
      "metadata": {
        "id": "zY7HK0gHxRF5"
      },
      "execution_count": null,
      "outputs": []
    }
  ]
}